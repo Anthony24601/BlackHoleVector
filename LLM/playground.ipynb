{
 "cells": [
  {
   "cell_type": "code",
   "execution_count": null,
   "metadata": {},
   "outputs": [],
   "source": []
  },
  {
   "cell_type": "markdown",
   "metadata": {},
   "source": [
    "torchrun --nnodes 1 --nproc_per_node 1 reference.py \\    --ckpt_dir llama-models/models/llama3_1/Meta-Llama-3-8B \\    --tokenizer_path llama-models/models/llama3_1/Meta-Llama-3-8B/tokenizer.model"
   ]
  },
  {
   "cell_type": "markdown",
   "metadata": {},
   "source": [
    "torchrun --nnodes 1 --nproc_per_node 1 reference.py \\    --ckpt_dir meta-llama/Meta-Llama-3-8B \\    --tokenizer_path meta-llama/Meta-Llama-3-8B/original/tokenizer.model"
   ]
  }
 ],
 "metadata": {
  "language_info": {
   "name": "python"
  }
 },
 "nbformat": 4,
 "nbformat_minor": 2
}
