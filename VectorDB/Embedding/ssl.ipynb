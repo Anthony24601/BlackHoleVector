{
 "cells": [
  {
   "cell_type": "code",
   "execution_count": 1,
   "metadata": {},
   "outputs": [],
   "source": [
    "import torch\n",
    "import torchvision.transforms as transforms\n",
    "from PIL import Image\n",
    "import torch.nn as nn\n",
    "import torchvision.models as models\n",
    "import torch.nn.functional as F\n",
    "\n",
    "# Define the SimCLR Model\n",
    "class SimCLRModel(nn.Module):\n",
    "    def __init__(self, base_model='resnet50', out_dim=128):\n",
    "        super(SimCLRModel, self).__init__()\n",
    "        \n",
    "        # Load a pre-trained ResNet (or other model)\n",
    "        self.encoder = getattr(models, base_model)(pretrained=True)\n",
    "        \n",
    "        # Remove the final fully connected layer and add a new projection head\n",
    "        in_features = self.encoder.fc.in_features\n",
    "        self.encoder.fc = nn.Identity()  # Remove the final fully connected layer\n",
    "        \n",
    "        # Projection head (typically a small MLP)\n",
    "        self.projection_head = nn.Sequential(\n",
    "            nn.Linear(in_features, 512),\n",
    "            nn.ReLU(),\n",
    "            nn.Linear(512, out_dim)\n",
    "        )\n",
    "\n",
    "    def forward(self, x):\n",
    "        # Step 1: Encode the input images using the base CNN (e.g., ResNet)\n",
    "        h = self.encoder(x)  # Get feature representation from encoder\n",
    "        \n",
    "        # Step 2: Project the encoded features to a lower dimension using the projection head\n",
    "        z = self.projection_head(h)\n",
    "        \n",
    "        # Return both embeddings and projected embeddings\n",
    "        return h, F.normalize(z, dim=-1)\n",
    "\n",
    "# Function to load and preprocess the image\n",
    "def load_image(image_path, transform):\n",
    "    # Load the image with PIL\n",
    "    image = Image.open(image_path).convert(\"RGB\")  # Convert to RGB (if grayscale or PNG with transparency)\n",
    "    return transform(image)\n",
    "\n",
    "# Define the image preprocessing transformations\n",
    "transform = transforms.Compose([\n",
    "    transforms.Resize((224, 224)),  # Resize to the input size expected by ResNet (224x224)\n",
    "    transforms.ToTensor(),  # Convert the image to a PyTorch tensor\n",
    "    transforms.Normalize(mean=[0.485, 0.456, 0.406], std=[0.229, 0.224, 0.225])  # Normalize using ImageNet mean and std\n",
    "])\n"
   ]
  },
  {
   "cell_type": "code",
   "execution_count": 2,
   "metadata": {},
   "outputs": [
    {
     "name": "stderr",
     "output_type": "stream",
     "text": [
      "/Users/anthonyhsu/Documents/GitHub/BlackHoleVector/.venv/lib/python3.11/site-packages/torchvision/models/_utils.py:208: UserWarning: The parameter 'pretrained' is deprecated since 0.13 and may be removed in the future, please use 'weights' instead.\n",
      "  warnings.warn(\n",
      "/Users/anthonyhsu/Documents/GitHub/BlackHoleVector/.venv/lib/python3.11/site-packages/torchvision/models/_utils.py:223: UserWarning: Arguments other than a weight enum or `None` for 'weights' are deprecated since 0.13 and may be removed in the future. The current behavior is equivalent to passing `weights=ResNet50_Weights.IMAGENET1K_V1`. You can also use `weights=ResNet50_Weights.DEFAULT` to get the most up-to-date weights.\n",
      "  warnings.warn(msg)\n",
      "Downloading: \"https://download.pytorch.org/models/resnet50-0676ba61.pth\" to /Users/anthonyhsu/.cache/torch/hub/checkpoints/resnet50-0676ba61.pth\n",
      "100%|██████████| 97.8M/97.8M [00:07<00:00, 14.1MB/s]\n"
     ]
    },
    {
     "name": "stdout",
     "output_type": "stream",
     "text": [
      "Embeddings shape: torch.Size([1, 2048])\n"
     ]
    }
   ],
   "source": [
    "# Load and preprocess a PNG image\n",
    "image_path = '../images/3597_blur_avg.png'  # Path to the PNG image\n",
    "image_tensor = load_image(image_path, transform)\n",
    "image_tensor = image_tensor.unsqueeze(0)  # Add a batch dimension (batch size = 1)\n",
    "\n",
    "# Initialize the SimCLR model\n",
    "model = SimCLRModel(base_model='resnet50', out_dim=128)\n",
    "\n",
    "# Get embeddings from the image\n",
    "with torch.no_grad():  # Disable gradient calculation for inference\n",
    "    embeddings, _ = model(image_tensor)\n",
    "\n",
    "# Print the shape of the embeddings\n",
    "print(\"Embeddings shape:\", embeddings.shape)  # Should print [1, 2048] for ResNet-50"
   ]
  },
  {
   "cell_type": "code",
   "execution_count": 3,
   "metadata": {},
   "outputs": [
    {
     "name": "stdout",
     "output_type": "stream",
     "text": [
      "Embeddings shape: torch.Size([1, 2048])\n"
     ]
    }
   ],
   "source": [
    "# Load and preprocess a PNG image\n",
    "image_path = '../images/dog.jpg'  # Path to the PNG image\n",
    "image_tensor = load_image(image_path, transform)\n",
    "image_tensor = image_tensor.unsqueeze(0)  # Add a batch dimension (batch size = 1)\n",
    "\n",
    "# Initialize the SimCLR model\n",
    "model = SimCLRModel(base_model='resnet50', out_dim=128)\n",
    "\n",
    "# Get embeddings from the image\n",
    "with torch.no_grad():  # Disable gradient calculation for inference\n",
    "    embeddings2, _ = model(image_tensor)\n",
    "\n",
    "# Print the shape of the embeddings\n",
    "print(\"Embeddings shape:\", embeddings2.shape)  # Should print [1, 2048] for ResNet-50"
   ]
  },
  {
   "cell_type": "code",
   "execution_count": 5,
   "metadata": {},
   "outputs": [
    {
     "data": {
      "text/plain": [
       "tensor([[False, False, False,  ..., False, False, False]])"
      ]
     },
     "execution_count": 5,
     "metadata": {},
     "output_type": "execute_result"
    }
   ],
   "source": [
    "embeddings == embeddings2"
   ]
  }
 ],
 "metadata": {
  "kernelspec": {
   "display_name": ".venv",
   "language": "python",
   "name": "python3"
  },
  "language_info": {
   "codemirror_mode": {
    "name": "ipython",
    "version": 3
   },
   "file_extension": ".py",
   "mimetype": "text/x-python",
   "name": "python",
   "nbconvert_exporter": "python",
   "pygments_lexer": "ipython3",
   "version": "3.11.4"
  }
 },
 "nbformat": 4,
 "nbformat_minor": 2
}
