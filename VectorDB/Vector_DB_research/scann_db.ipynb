{
 "cells": [
  {
   "cell_type": "code",
   "execution_count": null,
   "metadata": {},
   "outputs": [],
   "source": [
    "import numpy as np\n",
    "import scann\n",
    "\n",
    "# Generate random dataset\n",
    "embeddings = np.random.random((1000, 128)).astype(np.float32)\n",
    "\n",
    "# Build the ScaNN searcher\n",
    "searcher = scann.scann_ops_pybind.builder(embeddings, 10, \"dot_product\").tree(\n",
    "    num_leaves=200, num_leaves_to_search=10, training_sample_size=25000).score_ah(\n",
    "    2, anisotropic_quantization_threshold=0.2).reorder(100).build()\n",
    "\n",
    "# Query the index\n",
    "query = np.random.random((1, 128)).astype(np.float32)\n",
    "neighbors, distances = searcher.search_batched(query)\n"
   ]
  }
 ],
 "metadata": {
  "language_info": {
   "name": "python"
  }
 },
 "nbformat": 4,
 "nbformat_minor": 2
}
