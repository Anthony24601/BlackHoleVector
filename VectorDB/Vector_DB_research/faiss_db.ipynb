{
 "cells": [
  {
   "cell_type": "code",
   "execution_count": null,
   "metadata": {},
   "outputs": [],
   "source": [
    "import faiss\n",
    "import numpy as np\n",
    "\n",
    "# Create a FAISS index\n",
    "dimension = 128  # Example embedding size\n",
    "index = faiss.IndexFlatL2(dimension)  # L2 distance index\n",
    "\n",
    "# Add vectors to the index\n",
    "embeddings = np.random.random((1000, dimension)).astype('float32')\n",
    "index.add(embeddings)\n",
    "\n",
    "# Query the index\n",
    "query_embedding = np.random.random((1, dimension)).astype('float32')\n",
    "distances, indices = index.search(query_embedding, k=5)  # Find 5 nearest neighbors\n"
   ]
  }
 ],
 "metadata": {
  "language_info": {
   "name": "python"
  }
 },
 "nbformat": 4,
 "nbformat_minor": 2
}
