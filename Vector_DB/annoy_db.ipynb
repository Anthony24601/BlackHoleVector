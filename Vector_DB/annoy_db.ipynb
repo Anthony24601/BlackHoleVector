{
 "cells": [
  {
   "cell_type": "code",
   "execution_count": null,
   "metadata": {},
   "outputs": [],
   "source": [
    "from annoy import AnnoyIndex\n",
    "\n",
    "dimension = 128  # Example embedding size\n",
    "t = AnnoyIndex(dimension, 'angular')  # Use angular distance metric\n",
    "\n",
    "# Add vectors to the index\n",
    "for i in range(1000):\n",
    "    t.add_item(i, np.random.random(dimension).tolist())\n",
    "\n",
    "t.build(10)  # Build the index with 10 trees\n",
    "t.save('index.ann')\n",
    "\n",
    "# Query the index\n",
    "nearest_neighbors = t.get_nns_by_vector(np.random.random(dimension).tolist(), 5)  # Find 5 nearest neighbors\n"
   ]
  }
 ],
 "metadata": {
  "language_info": {
   "name": "python"
  }
 },
 "nbformat": 4,
 "nbformat_minor": 2
}
