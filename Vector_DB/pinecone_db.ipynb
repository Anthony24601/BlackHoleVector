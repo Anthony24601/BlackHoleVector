{
 "cells": [
  {
   "cell_type": "code",
   "execution_count": null,
   "metadata": {},
   "outputs": [],
   "source": [
    "import pinecone\n",
    "\n",
    "# Initialize Pinecone\n",
    "pinecone.init(api_key='YOUR_API_KEY', environment='us-west1-gcp')\n",
    "\n",
    "# Create or connect to an index\n",
    "index = pinecone.Index('black-hole-embeddings')\n",
    "\n",
    "# Upsert vectors (add/update)\n",
    "vectors = [(str(i), np.random.random(128).tolist()) for i in range(1000)]\n",
    "index.upsert(vectors)\n",
    "\n",
    "# Query the index\n",
    "query_embedding = np.random.random(128).tolist()\n",
    "result = index.query([query_embedding], top_k=5)\n"
   ]
  }
 ],
 "metadata": {
  "language_info": {
   "name": "python"
  }
 },
 "nbformat": 4,
 "nbformat_minor": 2
}
