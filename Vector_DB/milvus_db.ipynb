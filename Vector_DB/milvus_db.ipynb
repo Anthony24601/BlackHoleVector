{
 "cells": [
  {
   "cell_type": "code",
   "execution_count": null,
   "metadata": {},
   "outputs": [],
   "source": [
    "from pymilvus import connections, CollectionSchema, FieldSchema, DataType, Collection\n",
    "\n",
    "# Connect to Milvus\n",
    "connections.connect()\n",
    "\n",
    "# Define the collection schema\n",
    "fields = [\n",
    "    FieldSchema(name=\"id\", dtype=DataType.INT64, is_primary=True),\n",
    "    FieldSchema(name=\"embedding\", dtype=DataType.FLOAT_VECTOR, dim=128)\n",
    "]\n",
    "schema = CollectionSchema(fields, \"Black Hole Image Embeddings\")\n",
    "\n",
    "# Create the collection\n",
    "collection = Collection(\"black_hole_embeddings\", schema)\n",
    "\n",
    "# Insert vectors\n",
    "ids = [i for i in range(1000)]\n",
    "vectors = np.random.random((1000, 128)).tolist()\n",
    "collection.insert([ids, vectors])\n",
    "\n",
    "# Query the collection\n",
    "search_params = {\"metric_type\": \"L2\", \"params\": {\"nprobe\": 10}}\n",
    "query_embedding = np.random.random(128).tolist()\n",
    "results = collection.search([query_embedding], \"embedding\", search_params, limit=5)\n"
   ]
  }
 ],
 "metadata": {
  "language_info": {
   "name": "python"
  }
 },
 "nbformat": 4,
 "nbformat_minor": 2
}
