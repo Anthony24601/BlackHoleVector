{
 "cells": [
  {
   "cell_type": "code",
   "execution_count": null,
   "metadata": {},
   "outputs": [],
   "source": [
    "from transformers import ViTFeatureExtractor, ViTModel\n",
    "from PIL import Image\n",
    "import torch\n",
    "\n",
    "# Load pretrained Vision Transformer (ViT) model and feature extractor\n",
    "feature_extractor = ViTFeatureExtractor.from_pretrained('google/vit-base-patch16-224')\n",
    "model = ViTModel.from_pretrained('google/vit-base-patch16-224')\n",
    "\n",
    "# Example usage\n",
    "def get_vit_embedding(image_path):\n",
    "    image = Image.open(image_path).convert(\"RGB\")\n",
    "    inputs = feature_extractor(images=image, return_tensors=\"pt\")\n",
    "    with torch.no_grad():\n",
    "        outputs = model(**inputs)\n",
    "    # Extract the CLS token embedding (first token's output)\n",
    "    embedding = outputs.last_hidden_state[:, 0, :].squeeze().numpy()\n",
    "    return embedding\n",
    "\n",
    "embedding = get_vit_embedding('path_to_black_hole_image.jpg')"
   ]
  }
 ],
 "metadata": {
  "language_info": {
   "name": "python"
  }
 },
 "nbformat": 4,
 "nbformat_minor": 2
}
