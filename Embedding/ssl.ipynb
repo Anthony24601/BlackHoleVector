{
 "cells": [
  {
   "cell_type": "code",
   "execution_count": null,
   "metadata": {},
   "outputs": [],
   "source": [
    "import torch\n",
    "from lightly.models import SimCLR\n",
    "from lightly.data import LightlyDataset\n",
    "from lightly.models.modules.heads import SimCLRProjectionHead\n",
    "from torchvision import transforms\n",
    "from PIL import Image\n",
    "\n",
    "# Define a SimCLR model using a ResNet backbone\n",
    "class SimCLRModel(torch.nn.Module):\n",
    "    def __init__(self):\n",
    "        super().__init__()\n",
    "        self.backbone = models.resnet50(pretrained=False)\n",
    "        self.backbone = torch.nn.Sequential(*list(self.backbone.children())[:-1])  # Remove final layer\n",
    "        self.projection_head = SimCLRProjectionHead(2048, 2048, 128)\n",
    "\n",
    "    def forward(self, x):\n",
    "        features = self.backbone(x).squeeze()\n",
    "        projections = self.projection_head(features)\n",
    "        return projections\n",
    "\n",
    "# Example usage\n",
    "model = SimCLRModel()\n",
    "\n",
    "# Transform input image\n",
    "transform = transforms.Compose([\n",
    "    transforms.Resize((224, 224)),\n",
    "    transforms.ToTensor(),\n",
    "    transforms.Normalize(mean=[0.485, 0.456, 0.406], std=[0.229, 0.224, 0.225])\n",
    "])\n",
    "\n",
    "def get_simclr_embedding(image_path):\n",
    "    image = Image.open(image_path).convert(\"RGB\")\n",
    "    image = transform(image).unsqueeze(0)\n",
    "    with torch.no_grad():\n",
    "        embedding = model(image).squeeze().numpy()\n",
    "    return embedding\n",
    "\n",
    "embedding = get_simclr_embedding('path_to_black_hole_image.jpg')"
   ]
  }
 ],
 "metadata": {
  "language_info": {
   "name": "python"
  }
 },
 "nbformat": 4,
 "nbformat_minor": 2
}
