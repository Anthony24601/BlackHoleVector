{
 "cells": [
  {
   "cell_type": "code",
   "execution_count": null,
   "metadata": {},
   "outputs": [],
   "source": [
    "from tensorflow.keras import layers, models\n",
    "from tensorflow.keras.preprocessing import image\n",
    "import numpy as np\n",
    "\n",
    "# Create a simple convolutional autoencoder\n",
    "def build_autoencoder():\n",
    "    input_img = layers.Input(shape=(128, 128, 3))  # Input size: 128x128 RGB image\n",
    "    # Encoder\n",
    "    x = layers.Conv2D(32, (3, 3), activation='relu', padding='same')(input_img)\n",
    "    x = layers.MaxPooling2D((2, 2), padding='same')(x)\n",
    "    x = layers.Conv2D(64, (3, 3), activation='relu', padding='same')(x)\n",
    "    x = layers.MaxPooling2D((2, 2), padding='same')(x)\n",
    "    # Latent space (embedding)\n",
    "    encoded = layers.Conv2D(128, (3, 3), activation='relu', padding='same')(x)\n",
    "    # Decoder\n",
    "    x = layers.Conv2D(64, (3, 3), activation='relu', padding='same')(encoded)\n",
    "    x = layers.UpSampling2D((2, 2))(x)\n",
    "    x = layers.Conv2D(32, (3, 3), activation='relu', padding='same')(x)\n",
    "    x = layers.UpSampling2D((2, 2))(x)\n",
    "    decoded = layers.Conv2D(3, (3, 3), activation='sigmoid', padding='same')(x)\n",
    "    \n",
    "    autoencoder = models.Model(input_img, decoded)\n",
    "    encoder = models.Model(input_img, encoded)\n",
    "    autoencoder.compile(optimizer='adam', loss='binary_crossentropy')\n",
    "    return autoencoder, encoder\n",
    "\n",
    "autoencoder, encoder = build_autoencoder()\n",
    "\n",
    "# Example usage\n",
    "def get_autoencoder_embedding(image_path):\n",
    "    img = image.load_img(image_path, target_size=(128, 128))\n",
    "    img_array = image.img_to_array(img) / 255.0  # Normalize\n",
    "    img_array = np.expand_dims(img_array, axis=0)\n",
    "    embedding = encoder.predict(img_array)\n",
    "    return embedding.flatten()\n",
    "\n",
    "embedding = get_autoencoder_embedding('path_to_black_hole_image.jpg')"
   ]
  }
 ],
 "metadata": {
  "language_info": {
   "name": "python"
  }
 },
 "nbformat": 4,
 "nbformat_minor": 2
}
